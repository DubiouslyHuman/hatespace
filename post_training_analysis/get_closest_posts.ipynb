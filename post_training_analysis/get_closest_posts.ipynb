{
 "cells": [
  {
   "cell_type": "code",
   "execution_count": 2,
   "source": [
    "cd ..\r\n",
    "cd .."
   ],
   "outputs": [
    {
     "output_type": "stream",
     "name": "stdout",
     "text": [
      "c:\\Users\\Tanner\\Documents\\repos\\ironmarch\n"
     ]
    }
   ],
   "metadata": {}
  },
  {
   "cell_type": "code",
   "execution_count": 3,
   "source": [
    "import torch\r\n",
    "import pandas as pd\r\n",
    "import numpy as np\r\n",
    "import os\r\n",
    "from ast import literal_eval\r\n",
    "from scipy.spatial import distance"
   ],
   "outputs": [],
   "metadata": {}
  },
  {
   "cell_type": "code",
   "execution_count": 4,
   "source": [
    "latent_dim = 16\r\n",
    "n_neighbors = 10\r\n",
    "embedding_path = 'saved_embeddings\\\\vae\\sinkhorn\\\\alpha_1.0_latent_16_softmax_True_version_1.1.2_features_True.csv'"
   ],
   "outputs": [],
   "metadata": {}
  },
  {
   "cell_type": "code",
   "execution_count": 6,
   "source": [
    "embeddings = pd.read_csv(embedding_path).to_dict(orient = 'records')\r\n",
    "\r\n",
    "def convert_string_to_tensor(string):\r\n",
    "    return np.array(string.strip('[').strip(']').split()).astype('float')\r\n",
    "\r\n",
    "embeddings = [{'id' : item['id'], 'embedding' : convert_string_to_tensor(item['embedding'])} for item in embeddings]\r\n",
    "\r\n",
    "embedding_array = []\r\n",
    "id_list = []\r\n",
    "for embedding in embeddings:\r\n",
    "    embedding_array.append(embedding['embedding'])\r\n",
    "    id_list.append(embedding['id'])\r\n",
    "embedding_array = np.array(embedding_array)\r\n",
    "print(embedding_array.shape)"
   ],
   "outputs": [
    {
     "output_type": "stream",
     "name": "stdout",
     "text": [
      "(21715, 16)\n"
     ]
    }
   ],
   "metadata": {}
  },
  {
   "cell_type": "code",
   "execution_count": 7,
   "source": [
    "archetypes = np.diag(np.array([1.0 for i in range(latent_dim)]))\r\n",
    "all_points = np.concatenate([embedding_array, archetypes])\r\n",
    "print(all_points.shape)"
   ],
   "outputs": [
    {
     "output_type": "stream",
     "name": "stdout",
     "text": [
      "(21731, 16)\n"
     ]
    }
   ],
   "metadata": {}
  },
  {
   "cell_type": "code",
   "execution_count": 8,
   "source": [
    "distance_matrix = distance.squareform(distance.pdist(all_points))\r\n",
    "archetype_distance = distance_matrix[-16:]\r\n",
    "archetype_closest = np.argsort(archetype_distance, axis = 1)\r\n",
    "print(archetype_closest)"
   ],
   "outputs": [
    {
     "output_type": "stream",
     "name": "stdout",
     "text": [
      "[[21715  6370   394 ... 21727 21728 21730]\n",
      " [21716   690   986 ... 21715 21722 21730]\n",
      " [21717 16733 19560 ... 21729 21722 21730]\n",
      " ...\n",
      " [21728 21470 13486 ... 21729 21721 21730]\n",
      " [21729 15436  7586 ... 21715 21721 21730]\n",
      " [21730  6382  4983 ... 21729 21722 21718]]\n"
     ]
    }
   ],
   "metadata": {}
  },
  {
   "cell_type": "code",
   "execution_count": 9,
   "source": [
    "raw_posts = pd.read_csv('iron_march_201911\\core_message_posts.csv')"
   ],
   "outputs": [],
   "metadata": {}
  },
  {
   "cell_type": "code",
   "execution_count": 10,
   "source": [
    "output_directory = 'post_training_analysis/closest_posts/output'\r\n",
    "output_file_name = embedding_path.split('\\\\')[-1].replace('.csv', '') + '.txt'\r\n",
    "output_path = os.path.join(output_directory, output_file_name)\r\n",
    "\r\n",
    "with open(output_path, 'w+', encoding = 'utf-8') as output_file:\r\n",
    "    for num, archetype in enumerate(archetype_closest):\r\n",
    "        output_file.write(f'---- ARCHETYPE {num} ----\\n\\n')\r\n",
    "        for index in archetype[1: 1 + n_neighbors]:\r\n",
    "            id = id_list[index]\r\n",
    "            mask = raw_posts['msg_id'].values == id\r\n",
    "            post = raw_posts.loc[mask]['msg_post'].values[0]\r\n",
    "            output_file.write(f'MESSAGE {id}:\\n{post.strip()}\\n\\n')"
   ],
   "outputs": [],
   "metadata": {}
  }
 ],
 "metadata": {
  "orig_nbformat": 4,
  "language_info": {
   "name": "python",
   "version": "3.7.9",
   "mimetype": "text/x-python",
   "codemirror_mode": {
    "name": "ipython",
    "version": 3
   },
   "pygments_lexer": "ipython3",
   "nbconvert_exporter": "python",
   "file_extension": ".py"
  },
  "kernelspec": {
   "name": "python3",
   "display_name": "Python 3.7.9 64-bit ('pytorch': conda)"
  },
  "interpreter": {
   "hash": "7561999865e8d32d6414ef8be0e097f8d3bcb29efcaa5381d7876f261ce057b4"
  }
 },
 "nbformat": 4,
 "nbformat_minor": 2
}