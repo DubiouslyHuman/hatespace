{
 "cells": [
  {
   "cell_type": "code",
   "execution_count": 1,
   "source": [
    "cd C:/Users/Tanner/Documents/repos/ironmarch-archetypal/"
   ],
   "outputs": [
    {
     "output_type": "stream",
     "name": "stdout",
     "text": [
      "C:\\Users\\Tanner\\Documents\\repos\\ironmarch-archetypal\n"
     ]
    }
   ],
   "metadata": {}
  },
  {
   "cell_type": "code",
   "execution_count": 21,
   "source": [
    "import torch\r\n",
    "import pandas as pd\r\n",
    "import numpy as np\r\n",
    "import os\r\n",
    "from ast import literal_eval\r\n",
    "from scipy import spatial"
   ],
   "outputs": [],
   "metadata": {}
  },
  {
   "cell_type": "code",
   "execution_count": 13,
   "source": [
    "latent_dim = 16\r\n",
    "n_neighbors = 10\r\n",
    "embedding_path = 'embeddings\\\\train_sinkhorn_vae_2021-08-12_19-45-38\\\\train_sinkhorn_vae_c774e2cc_6_one=0.94555,zero=0.8_2021-08-12_19-45-38\\checkpoint_000040\\embeddings.csv'"
   ],
   "outputs": [],
   "metadata": {}
  },
  {
   "cell_type": "code",
   "execution_count": 16,
   "source": [
    "embeddings = pd.read_csv(embedding_path).to_dict(orient = 'records')\r\n",
    "\r\n",
    "def convert_string_to_tensor(string):\r\n",
    "    return np.array(string.strip('[').strip(']').replace(',', '').split()).astype('float')\r\n",
    "\r\n",
    "embeddings = [{'id' : item['id'], 'embedding' : convert_string_to_tensor(item['embedding'])} for item in embeddings]\r\n",
    "\r\n",
    "embedding_array = []\r\n",
    "id_list = []\r\n",
    "for embedding in embeddings:\r\n",
    "    embedding_array.append(embedding['embedding'])\r\n",
    "    id_list.append(embedding['id'])\r\n",
    "embedding_array = np.array(embedding_array)\r\n",
    "print(embedding_array.shape)"
   ],
   "outputs": [
    {
     "output_type": "stream",
     "name": "stdout",
     "text": [
      "(217757, 16)\n"
     ]
    }
   ],
   "metadata": {}
  },
  {
   "cell_type": "code",
   "execution_count": 22,
   "source": [
    "archetypes = np.diag(np.array([1.0 for i in range(latent_dim)]))\r\n",
    "distances = spatial.distance_matrix(archetypes, embedding_array)\r\n",
    "archetype_closest = np.argsort(distances, axis = 1)\r\n",
    "print(archetype_closest)"
   ],
   "outputs": [
    {
     "output_type": "stream",
     "name": "stdout",
     "text": [
      "[[196954 179475 214120 ... 193536 189780 144477]\n",
      " [109071 174764  93937 ... 193536 189780 144477]\n",
      " [175128 174116 121192 ... 193536 189780 144477]\n",
      " ...\n",
      " [ 56358   3652 184830 ... 193536 189780 144477]\n",
      " [ 71774 193058 124371 ... 193536 189780 144477]\n",
      " [105230 207006 118551 ... 193536 189780 144477]]\n"
     ]
    }
   ],
   "metadata": {}
  },
  {
   "cell_type": "code",
   "execution_count": 25,
   "source": [
    "direct_message_posts = pd.read_csv('iron_march_201911\\core_message_posts.csv')\r\n",
    "forum_posts = pd.read_csv('iron_march_201911\\core_search_index.csv')"
   ],
   "outputs": [],
   "metadata": {}
  },
  {
   "cell_type": "code",
   "execution_count": 46,
   "source": [
    "from bs4 import BeautifulSoup\r\n",
    "\r\n",
    "example = direct_message_posts.loc[440]['msg_post']\r\n",
    "example\r\n",
    "\r\n",
    "soup = BeautifulSoup(example)\r\n",
    "print('\\n'.join([element.text for element in soup.find_all('p')]))"
   ],
   "outputs": [
    {
     "output_type": "stream",
     "name": "stdout",
     "text": [
      "Hey,\n",
      "I just saw that you went on my profile. I am having difficulty fixing my avatar, every time I try to upload a picture it says that it failed to upload. I am going to prepare an introduction post for myself maybe tomorrow sometime.\n",
      "Regarding your comments through email:\n",
      "Yeah, some things just don’t mix. Marxism and  Nationalism don’t really mix, and because Marxism reduces everything to just economics (as I explained to you in the past) Nationalism was bound to be pushed to the backseat – especially with all of those more Far-Left types on there like “Coach”. I actually read a few things by Marx and Engels which you may have not even read and I discovered that the Socialist Phalanx people misinterpreted Marxism; it is actually seriously anti-Nationalist at its core.\n",
      "No, I never got into Strasser. Care to recommend anything?\n",
      "Israel would be a good state if it were not for certain policies it has. They not only genocide Palestinians, but they steal young women from Eastern Europe to sell them into prostitution, and they also steal organs from kids in Palestine and Eastern Europe. I saw an article once called “Israeli Organ Trafficking and Theft: From Moldova to Palestine.” Moldova is an ethnically Romanian nation that split off from Romania, but they are Romanians nonetheless! Read the article here:\n",
      "http://www.wrmea.com...-palestine.html\n",
      "Goddam Kikes never stop sucking off of us!\n",
      "Very well, I hope you get better. No need to rush with the essays, one of them is long and I don’t know how anybody could enjoy reading them off a phone.\n"
     ]
    }
   ],
   "metadata": {}
  },
  {
   "cell_type": "code",
   "execution_count": 68,
   "source": [
    "direct_message_posts.loc[direct_message_posts['msg_id'] == 12]['msg_post'].values[0]"
   ],
   "outputs": [
    {
     "output_type": "execute_result",
     "data": {
      "text/plain": [
       "'<p>The best first post to make on our forums is the one where you introduce yourself to the community. Check the Introductions forum to do this.</p>'"
      ]
     },
     "metadata": {},
     "execution_count": 68
    }
   ],
   "metadata": {}
  },
  {
   "cell_type": "code",
   "execution_count": 100,
   "source": [
    "def get_element_content(beautiful_soup_element):\r\n",
    "    for get_attribute in [lambda x : x.text, lambda x : x.string, lambda x : x.src]:\r\n",
    "        try:\r\n",
    "            return get_attribute(beautiful_soup_element)\r\n",
    "        except AttributeError:\r\n",
    "            continue"
   ],
   "outputs": [],
   "metadata": {}
  },
  {
   "cell_type": "code",
   "execution_count": 101,
   "source": [
    "def clean_post(post):\r\n",
    "    soup = BeautifulSoup(post)\r\n",
    "    return '\\n'.join([get_element_content(element) for element in soup])"
   ],
   "outputs": [],
   "metadata": {}
  },
  {
   "cell_type": "code",
   "execution_count": 102,
   "source": [
    "def get_post_content(post_id):\r\n",
    "    post_location, _, item_id = post_id.split('_')\r\n",
    "    item_id = int(item_id)\r\n",
    "    if post_location == 'direct':\r\n",
    "        pandas_item = direct_message_posts.loc[direct_message_posts['msg_id'] == item_id]\r\n",
    "        return clean_post(str(pandas_item['msg_post'].values[0]))\r\n",
    "    else:\r\n",
    "        pandas_item = forum_posts.loc[forum_posts['index_id'] == item_id]\r\n",
    "        return clean_post(str(pandas_item['index_content'].values[0]))\r\n",
    "\r\n",
    "print(get_post_content('direct_messages_1223'))"
   ],
   "outputs": [
    {
     "output_type": "stream",
     "name": "stdout",
     "text": [
      "\n",
      "\n",
      "I didn't really get that impression from the American nationalists here. American_Blackshirt, in Reaktion, explicitly defines pretty much everyone currently in the US, Anglo or Continental, white or black, as American, except for illegal Hispanic immigrants. Yes, I suppose this is Civic Nationalism, but were I an American I'd rather take the option that turned the US into an autonomous isolationist state by reviving the things that made it great than the one that turned it into a colony again. (However, both options are sufficiently far away from the current American mindset that I can't see either being realised in the near future.) I'm watching your debate with Kacen with great interest.\n",
      "\n",
      "\n",
      "Why? I think civic nationalism is stupid. It is idealism with no basis in the material world. Were all just supposed to be united cause were white, black, brown, cause we're all \"Amuurikans!\". Where as the ideal of the European is an ideal rooted in Europeans themselves. \n",
      "\n",
      "\n",
      "I've also sent an email regarding Foundations to the website of the Eurasian Movement; hoping to receive a response in intelligible English soon.\n",
      "\n",
      "\n",
      "Let me know what they say.\n",
      "\n",
      "\n"
     ]
    }
   ],
   "metadata": {}
  },
  {
   "cell_type": "code",
   "execution_count": 104,
   "source": [
    "message = direct_message_posts.loc[direct_message_posts['msg_id'] == 21827]['msg_post'].values[0]"
   ],
   "outputs": [],
   "metadata": {}
  },
  {
   "cell_type": "code",
   "execution_count": 111,
   "source": [
    "s = BeautifulSoup(message)\r\n",
    "s.find('iframe')['src']"
   ],
   "outputs": [
    {
     "output_type": "execute_result",
     "data": {
      "text/plain": [
       "'https://www.youtube.com/embed/lIeE_270J4U?feature=oembed'"
      ]
     },
     "metadata": {},
     "execution_count": 111
    }
   ],
   "metadata": {}
  },
  {
   "cell_type": "code",
   "execution_count": null,
   "source": [],
   "outputs": [],
   "metadata": {}
  },
  {
   "cell_type": "code",
   "execution_count": null,
   "source": [
    "direct_messages_21827"
   ],
   "outputs": [],
   "metadata": {}
  },
  {
   "cell_type": "code",
   "execution_count": 103,
   "source": [
    "output_directory = 'post_training_analysis/closest_posts/output'\r\n",
    "output_file_name = embedding_path.split('\\\\')[-1].replace('.csv', '') + '.txt'\r\n",
    "output_path = os.path.join(output_directory, output_file_name)\r\n",
    "\r\n",
    "with open(output_path, 'w+', encoding = 'utf-8') as output_file:\r\n",
    "    for num, archetype in enumerate(archetype_closest):\r\n",
    "        output_file.write(f'---- ARCHETYPE {num} ----\\n\\n')\r\n",
    "        for index in archetype[1: 1 + n_neighbors]:\r\n",
    "            item_id = id_list[index]\r\n",
    "            try:\r\n",
    "                post = get_post_content(item_id)\r\n",
    "            except:\r\n",
    "                print(item_id)\r\n",
    "                raise RuntimeError\r\n",
    "            output_file.write(f'MESSAGE {item_id}:\\n{post}\\n\\n')"
   ],
   "outputs": [
    {
     "output_type": "stream",
     "name": "stderr",
     "text": [
      "C:\\ProgramData\\Miniconda3\\envs\\pytorch\\lib\\site-packages\\bs4\\__init__.py:424: MarkupResemblesLocatorWarning: \"http://www.usatoday.com/story/life/music/2013/12/19/pussy-riot-members-freed-from-prison/4123959/\" looks like a URL. Beautiful Soup is not an HTTP client. You should probably use an HTTP client like requests to get the document behind the URL, and feed that document to Beautiful Soup.\n",
      "  MarkupResemblesLocatorWarning\n",
      "C:\\ProgramData\\Miniconda3\\envs\\pytorch\\lib\\site-packages\\bs4\\__init__.py:424: MarkupResemblesLocatorWarning: \"http://westernrifleshooters.files.wordpress.com/2011/11/amerika-logo1.jpg\" looks like a URL. Beautiful Soup is not an HTTP client. You should probably use an HTTP client like requests to get the document behind the URL, and feed that document to Beautiful Soup.\n",
      "  MarkupResemblesLocatorWarning\n",
      "C:\\ProgramData\\Miniconda3\\envs\\pytorch\\lib\\site-packages\\bs4\\__init__.py:424: MarkupResemblesLocatorWarning: \"http://soundcloud.com/division-steppenwolf/live-2015-02-01\" looks like a URL. Beautiful Soup is not an HTTP client. You should probably use an HTTP client like requests to get the document behind the URL, and feed that document to Beautiful Soup.\n",
      "  MarkupResemblesLocatorWarning\n"
     ]
    }
   ],
   "metadata": {}
  }
 ],
 "metadata": {
  "orig_nbformat": 4,
  "language_info": {
   "name": "python",
   "version": "3.7.9",
   "mimetype": "text/x-python",
   "codemirror_mode": {
    "name": "ipython",
    "version": 3
   },
   "pygments_lexer": "ipython3",
   "nbconvert_exporter": "python",
   "file_extension": ".py"
  },
  "kernelspec": {
   "name": "python3",
   "display_name": "Python 3.7.9 64-bit ('pytorch': conda)"
  },
  "interpreter": {
   "hash": "7561999865e8d32d6414ef8be0e097f8d3bcb29efcaa5381d7876f261ce057b4"
  }
 },
 "nbformat": 4,
 "nbformat_minor": 2
}