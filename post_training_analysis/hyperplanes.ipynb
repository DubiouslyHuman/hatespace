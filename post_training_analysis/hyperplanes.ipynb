{
 "metadata": {
  "language_info": {
   "codemirror_mode": {
    "name": "ipython",
    "version": 3
   },
   "file_extension": ".py",
   "mimetype": "text/x-python",
   "name": "python",
   "nbconvert_exporter": "python",
   "pygments_lexer": "ipython3",
   "version": "3.7.9"
  },
  "orig_nbformat": 4,
  "kernelspec": {
   "name": "python3",
   "display_name": "Python 3.7.9 64-bit ('pytorch': conda)"
  },
  "interpreter": {
   "hash": "7561999865e8d32d6414ef8be0e097f8d3bcb29efcaa5381d7876f261ce057b4"
  }
 },
 "nbformat": 4,
 "nbformat_minor": 2,
 "cells": [
  {
   "cell_type": "code",
   "execution_count": 1,
   "source": [
    "cd .."
   ],
   "outputs": [
    {
     "output_type": "stream",
     "name": "stdout",
     "text": [
      "c:\\Users\\Tanner\\Documents\\repos\\ironmarch\n"
     ]
    }
   ],
   "metadata": {}
  },
  {
   "cell_type": "code",
   "execution_count": 2,
   "source": [
    "import torch\r\n",
    "import numpy as np\r\n",
    "from models import VAE\r\n",
    "import seaborn"
   ],
   "outputs": [],
   "metadata": {}
  },
  {
   "cell_type": "code",
   "execution_count": 3,
   "source": [
    "model_path = 'saved_models\\\\vae\\sinkhorn\\\\alpha_1.0_latent_16_softmax_True_version_1.1.2_features_True'\r\n",
    "model = torch.load(model_path)\r\n",
    "model.to('cpu')\r\n",
    "transformation_matrix = model.feature_head[0].weight.data"
   ],
   "outputs": [],
   "metadata": {}
  },
  {
   "cell_type": "code",
   "execution_count": 4,
   "source": [
    "vector_lengths = torch.pow(torch.sum(torch.pow(transformation_matrix, 2), dim = 1), 1/2)\r\n",
    "normalized_plane_vectors = torch.div(transformation_matrix.T, vector_lengths).T"
   ],
   "outputs": [],
   "metadata": {}
  },
  {
   "cell_type": "code",
   "execution_count": 9,
   "source": [
    "feature_names = [\r\n",
    "    'nationality_hate',\r\n",
    "    'ethnicity_hate',\r\n",
    "    'religion_hate',\r\n",
    "    'gender_hate',\r\n",
    "    'sexual_orientation_hate',\r\n",
    "    'disability_hate',\r\n",
    "    'class_hate'\r\n",
    "]"
   ],
   "outputs": [],
   "metadata": {}
  },
  {
   "cell_type": "code",
   "execution_count": 7,
   "source": [
    "for name, plane_vector in zip(feature_names, normalized_plane_vectors.numpy()):\r\n",
    "    print(name + ' : \\n' + str(np.around(plane_vector, decimals = 2)))"
   ],
   "outputs": [
    {
     "output_type": "stream",
     "name": "stdout",
     "text": [
      "nationality_hate : \n",
      "[ 0.23 -0.39  0.19 -0.33  0.3  -0.27  0.26 -0.14 -0.16 -0.36 -0.29 -0.16\n",
      " -0.22 -0.13  0.04  0.27]\n",
      "ethnicity_hate : \n",
      "[ 0.34 -0.32  0.18 -0.34  0.28 -0.38  0.33 -0.09 -0.16 -0.26 -0.22 -0.17\n",
      " -0.2  -0.14  0.12  0.24]\n",
      "religion_hate : \n",
      "[ 0.21 -0.37  0.19 -0.33  0.3  -0.31  0.19 -0.18 -0.14 -0.37 -0.3  -0.18\n",
      " -0.27 -0.14  0.05  0.23]\n",
      "gender_hate : \n",
      "[ 0.26 -0.38  0.26 -0.29  0.27 -0.32  0.22 -0.17 -0.16 -0.35 -0.27 -0.2\n",
      " -0.23 -0.17  0.12  0.18]\n",
      "sexual_orientation_hate : \n",
      "[ 0.27 -0.4   0.22 -0.29  0.3  -0.27  0.23 -0.15 -0.16 -0.36 -0.27 -0.18\n",
      " -0.24 -0.17  0.12  0.17]\n",
      "disability_hate : \n",
      "[ 0.25 -0.37  0.24 -0.3   0.28 -0.38  0.21 -0.16 -0.13 -0.34 -0.27 -0.17\n",
      " -0.22 -0.14  0.12  0.19]\n",
      "class_hate : \n",
      "[ 0.23 -0.28 -0.11 -0.34 -0.2  -0.25  0.39  0.04 -0.36  0.06 -0.23 -0.29\n",
      " -0.25 -0.2   0.23  0.25]\n"
     ]
    }
   ],
   "metadata": {}
  },
  {
   "cell_type": "code",
   "execution_count": 10,
   "source": [
    "def get_cos_sim(vec_one, vec_two):\r\n",
    "    result = torch.acos(torch.dot(vec_one, vec_two))\r\n",
    "    if torch.equal(result, torch.tensor(1.0)):\r\n",
    "        return torch.tensor(0.0)\r\n",
    "    if result.isnan():\r\n",
    "        return torch.tensor(0.0)\r\n",
    "    return result\r\n",
    "\r\n",
    "similarity_heat_map = torch.zeros((normalized_plane_vectors.shape[0], normalized_plane_vectors.shape[0]))\r\n",
    "\r\n",
    "for i in range(normalized_plane_vectors.shape[0]):\r\n",
    "    for j in range(normalized_plane_vectors.shape[0]):\r\n",
    "        similarity_heat_map[i, j] = get_cos_sim(normalized_plane_vectors[i], normalized_plane_vectors[j])\r\n",
    "\r\n",
    "seaborn.heatmap(similarity_heat_map, xticklabels=feature_names, yticklabels=feature_names)"
   ],
   "outputs": [
    {
     "output_type": "execute_result",
     "data": {
      "text/plain": [
       "<AxesSubplot:>"
      ]
     },
     "metadata": {},
     "execution_count": 10
    },
    {
     "output_type": "display_data",
     "data": {
      "text/plain": [
       "<Figure size 432x288 with 2 Axes>"
      ],
      "image/png": "[encoded data removed]"
     },
     "metadata": {
      "needs_background": "light"
     }
    }
   ],
   "metadata": {}
  }
 ]
}