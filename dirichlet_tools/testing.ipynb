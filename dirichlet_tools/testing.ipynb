{
 "cells": [
  {
   "cell_type": "code",
   "execution_count": 9,
   "source": [
    "import numpy as np"
   ],
   "outputs": [],
   "metadata": {}
  },
  {
   "cell_type": "code",
   "execution_count": 10,
   "source": [
    "cd .."
   ],
   "outputs": [
    {
     "output_type": "stream",
     "name": "stdout",
     "text": [
      "c:\\Users\\Tanner\\Documents\\repos\\ironmarch\n"
     ]
    }
   ],
   "metadata": {}
  },
  {
   "cell_type": "code",
   "execution_count": 11,
   "source": [
    "from dirichlet_tools import permuted_frobenius_norm"
   ],
   "outputs": [],
   "metadata": {}
  },
  {
   "cell_type": "code",
   "execution_count": 13,
   "source": [
    "test_d = [1, 2, 3, 4, 5, 6, 7, 8, 9, 10, 12, 14, 16, 18, 20, 25, 30, 35, 40, 45, 50]\r\n",
    "n = 20000\r\n",
    "\r\n",
    "for d in test_d:\r\n",
    "    total_distance = 0\r\n",
    "    for test_num in range(500):\r\n",
    "        a = np.random.normal(size = (n, d))\r\n",
    "        b = np.random.normal(size = (n, d))\r\n",
    "        total_distance += permuted_frobenius_norm(a, b)[1]\r\n",
    "    print(f'Average distance at d = {d} is {(total_distance / (test_num + 1))}')"
   ],
   "outputs": [
    {
     "output_type": "stream",
     "name": "stdout",
     "text": [
      "Average distance at d = 1 is 1.128212347416482\n",
      "Average distance at d = 2 is 1.7701832169129397\n",
      "Average distance at d = 3 is 2.2541362222120513\n",
      "Average distance at d = 4 is 2.6566026229080513\n",
      "Average distance at d = 5 is 3.006105599681729\n",
      "Average distance at d = 6 is 3.3211433581261582\n",
      "Average distance at d = 7 is 3.6077503791400343\n",
      "Average distance at d = 8 is 3.8751311174737912\n",
      "Average distance at d = 9 is 4.124246402466107\n",
      "Average distance at d = 10 is 4.359132600978702\n",
      "Average distance at d = 12 is 4.796333350773383\n",
      "Average distance at d = 14 is 5.195649641956808\n",
      "Average distance at d = 16 is 5.567272555534072\n",
      "Average distance at d = 18 is 5.914688333809306\n",
      "Average distance at d = 20 is 6.244416409248525\n",
      "Average distance at d = 25 is 6.9991479958496505\n",
      "Average distance at d = 30 is 7.679690209185838\n",
      "Average distance at d = 35 is 8.305478296366708\n",
      "Average distance at d = 40 is 8.88730520411663\n",
      "Average distance at d = 45 is 9.432704623973034\n",
      "Average distance at d = 50 is 9.94907594864673\n"
     ]
    }
   ],
   "metadata": {}
  },
  {
   "cell_type": "code",
   "execution_count": 4,
   "source": [
    "def get_avg_dist_rand_norm(n):\r\n",
    "    samples_a = np.random.normal(size = (n))\r\n",
    "    samples_b = np.random.normal(size = (n))\r\n",
    "\r\n",
    "    return np.sum(np.abs(samples_a - samples_b)) / n"
   ],
   "outputs": [],
   "metadata": {}
  },
  {
   "cell_type": "code",
   "execution_count": 8,
   "source": [
    "test_n = [1, 2, 5, 10, 20, 50, 100, 200, 500, 1000, 2000, 5000, 10000, 20000]\r\n",
    "for n in test_n:\r\n",
    "    total_distance = 0\r\n",
    "    for test_num in range(1000):\r\n",
    "        total_distance += get_avg_dist_rand_norm(n)\r\n",
    "    print(f'Average distance at n = {n} is {(total_distance / (test_num + 1))}')"
   ],
   "outputs": [
    {
     "output_type": "stream",
     "name": "stdout",
     "text": [
      "Average distance at n = 1 is 1.1379795578777252\n",
      "Average distance at n = 2 is 1.1149431912168641\n",
      "Average distance at n = 5 is 1.1226706382304896\n",
      "Average distance at n = 10 is 1.1362215706641805\n",
      "Average distance at n = 20 is 1.1353237145143311\n",
      "Average distance at n = 50 is 1.1322266148809572\n",
      "Average distance at n = 100 is 1.1357991885723784\n",
      "Average distance at n = 200 is 1.1255101556163254\n",
      "Average distance at n = 500 is 1.1279533033373828\n",
      "Average distance at n = 1000 is 1.1292653449155705\n",
      "Average distance at n = 2000 is 1.1287227096373298\n",
      "Average distance at n = 5000 is 1.1285985216452592\n",
      "Average distance at n = 10000 is 1.1282777978335214\n",
      "Average distance at n = 20000 is 1.128578072771807\n"
     ]
    }
   ],
   "metadata": {}
  },
  {
   "cell_type": "code",
   "execution_count": 21,
   "source": [
    "d = 16\r\n",
    "n = 2\r\n",
    "\r\n",
    "a = np.random.normal(size = (n, d))\r\n",
    "b = np.random.normal(size = (n, d))"
   ],
   "outputs": [],
   "metadata": {}
  },
  {
   "cell_type": "code",
   "execution_count": 22,
   "source": [
    "permuted_frobenius_norm(a, b)"
   ],
   "outputs": [
    {
     "output_type": "execute_result",
     "data": {
      "text/plain": [
       "(array([ 3, 11,  7,  8, 10,  5, 14,  9, 15,  4, 13, 12,  0,  1,  6,  2],\n",
       "       dtype=int64),\n",
       " 3.8601400904660195)"
      ]
     },
     "metadata": {},
     "execution_count": 22
    }
   ],
   "metadata": {}
  }
 ],
 "metadata": {
  "orig_nbformat": 4,
  "language_info": {
   "name": "python",
   "version": "3.7.9",
   "mimetype": "text/x-python",
   "codemirror_mode": {
    "name": "ipython",
    "version": 3
   },
   "pygments_lexer": "ipython3",
   "nbconvert_exporter": "python",
   "file_extension": ".py"
  },
  "kernelspec": {
   "name": "python3",
   "display_name": "Python 3.7.9 64-bit ('pytorch': conda)"
  },
  "interpreter": {
   "hash": "7561999865e8d32d6414ef8be0e097f8d3bcb29efcaa5381d7876f261ce057b4"
  }
 },
 "nbformat": 4,
 "nbformat_minor": 2
}