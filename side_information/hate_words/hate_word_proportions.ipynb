{
 "cells": [
  {
   "cell_type": "code",
   "execution_count": 2,
   "source": [
    "cd .."
   ],
   "outputs": [
    {
     "output_type": "stream",
     "name": "stdout",
     "text": [
      "c:\\Users\\Tanner\\Documents\\repos\\ironmarch\n"
     ]
    }
   ],
   "metadata": {}
  },
  {
   "cell_type": "code",
   "execution_count": 3,
   "source": [
    "import pandas as pd\r\n",
    "import numpy as np\r\n",
    "from ast import literal_eval"
   ],
   "outputs": [],
   "metadata": {}
  },
  {
   "cell_type": "code",
   "execution_count": 4,
   "source": [
    "file_path = 'side_information\\hate_words\\processed_side_information.csv'\r\n",
    "data_frame = pd.read_csv(file_path)\r\n",
    "\r\n",
    "ones = 0\r\n",
    "total = 0\r\n",
    "for x in data_frame['data']:\r\n",
    "    data_value = np.array(literal_eval(x)).astype('float')\r\n",
    "    total += 7\r\n",
    "    ones += np.sum(data_value)\r\n",
    "\r\n",
    "print(f'The labelwise proportion of zeros in the side information is: {1 - (ones / total)}')"
   ],
   "outputs": [
    {
     "output_type": "stream",
     "name": "stdout",
     "text": [
      "The labelwise proportion of zeros in the side information is: 0.9600426163108419\n"
     ]
    }
   ],
   "metadata": {}
  },
  {
   "cell_type": "code",
   "execution_count": 5,
   "source": [
    "none = 0\r\n",
    "one = 0\r\n",
    "more_than_one = 0\r\n",
    "total = 0\r\n",
    "for x in data_frame['data']:\r\n",
    "    data_value = np.array(literal_eval(x)).astype('float')\r\n",
    "    total += 1\r\n",
    "    if np.sum(data_value) == 0:\r\n",
    "        none += 1\r\n",
    "    elif np.sum(data_value) == 1:\r\n",
    "        one += 1\r\n",
    "    else:\r\n",
    "        more_than_one += 1\r\n",
    "\r\n",
    "print('The itemwise proportion of the dataset which contains no known hate words, only one category of hate words, or more than one category')\r\n",
    "print(f'none: {(none / total)}, one: {(one / total)}, more than one: {(more_than_one / total)}')"
   ],
   "outputs": [
    {
     "output_type": "stream",
     "name": "stdout",
     "text": [
      "The itemwise proportion of the dataset which contains no known hate words, only one category of hate words, or more than one category\n",
      "none: 0.8119555284101085, one: 0.12101103523652512, more than one: 0.06703343635336637\n"
     ]
    }
   ],
   "metadata": {}
  }
 ],
 "metadata": {
  "orig_nbformat": 4,
  "language_info": {
   "name": "python",
   "version": "3.7.9",
   "mimetype": "text/x-python",
   "codemirror_mode": {
    "name": "ipython",
    "version": 3
   },
   "pygments_lexer": "ipython3",
   "nbconvert_exporter": "python",
   "file_extension": ".py"
  },
  "kernelspec": {
   "name": "python3",
   "display_name": "Python 3.7.9 64-bit ('pytorch': conda)"
  },
  "interpreter": {
   "hash": "7561999865e8d32d6414ef8be0e097f8d3bcb29efcaa5381d7876f261ce057b4"
  }
 },
 "nbformat": 4,
 "nbformat_minor": 2
}