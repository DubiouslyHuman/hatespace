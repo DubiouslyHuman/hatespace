{
 "cells": [
  {
   "cell_type": "code",
   "execution_count": 4,
   "metadata": {},
   "outputs": [
    {
     "name": "stdout",
     "output_type": "stream",
     "text": [
      "C:\\Users\\Tanner\\Documents\\repos\\ironmarch-archetypal\n"
     ]
    }
   ],
   "source": [
    "cd C:/Users/Tanner/Documents/repos/ironmarch-archetypal/"
   ]
  },
  {
   "cell_type": "code",
   "execution_count": 5,
   "metadata": {},
   "outputs": [],
   "source": [
    "import torch\n",
    "import pandas as pd\n",
    "import numpy as np\n",
    "import os\n",
    "from ast import literal_eval\n",
    "from scipy import spatial"
   ]
  },
  {
   "cell_type": "code",
   "execution_count": 6,
   "metadata": {},
   "outputs": [],
   "source": [
    "latent_dim = 16\n",
    "n_neighbors = 10\n",
    "embedding_path = 'embeddings\\\\train_sinkhorn_vae_2021-08-12_19-45-38\\\\train_sinkhorn_vae_c774e2cc_6_one=0.94555,zero=0.8_2021-08-12_19-45-38\\checkpoint_000040\\embeddings.csv'"
   ]
  },
  {
   "cell_type": "code",
   "execution_count": 7,
   "metadata": {},
   "outputs": [
    {
     "name": "stdout",
     "output_type": "stream",
     "text": [
      "(217757, 16)\n"
     ]
    }
   ],
   "source": [
    "embeddings = pd.read_csv(embedding_path).to_dict(orient = 'records')\n",
    "\n",
    "def convert_string_to_tensor(string):\n",
    "    return np.array(string.strip('[').strip(']').replace(',', '').split()).astype('float')\n",
    "\n",
    "embeddings = [{'id' : item['id'], 'embedding' : convert_string_to_tensor(item['embedding'])} for item in embeddings]\n",
    "\n",
    "embedding_array = []\n",
    "id_list = []\n",
    "for embedding in embeddings:\n",
    "    embedding_array.append(embedding['embedding'])\n",
    "    id_list.append(embedding['id'])\n",
    "embedding_array = np.array(embedding_array)\n",
    "print(embedding_array.shape)"
   ]
  },
  {
   "cell_type": "code",
   "execution_count": 8,
   "metadata": {},
   "outputs": [
    {
     "name": "stdout",
     "output_type": "stream",
     "text": [
      "[[196954 179475 214120 ... 193536 189780 144477]\n",
      " [109071 174764  93937 ... 193536 189780 144477]\n",
      " [175128 174116 121192 ... 193536 189780 144477]\n",
      " ...\n",
      " [ 56358   3652 184830 ... 193536 189780 144477]\n",
      " [ 71774 193058 124371 ... 193536 189780 144477]\n",
      " [105230 207006 118551 ... 193536 189780 144477]]\n"
     ]
    }
   ],
   "source": [
    "archetypes = np.diag(np.array([1.0 for i in range(latent_dim)]))\n",
    "distances = spatial.distance_matrix(archetypes, embedding_array)\n",
    "archetype_closest = np.argsort(distances, axis = 1)\n",
    "print(archetype_closest)"
   ]
  },
  {
   "cell_type": "code",
   "execution_count": 9,
   "metadata": {},
   "outputs": [],
   "source": [
    "direct_message_posts = pd.read_csv('iron_march_201911\\core_message_posts.csv')\n",
    "forum_posts = pd.read_csv('iron_march_201911\\core_search_index.csv')"
   ]
  },
  {
   "cell_type": "code",
   "execution_count": 12,
   "metadata": {},
   "outputs": [
    {
     "name": "stdout",
     "output_type": "stream",
     "text": [
      "> I didn't really get that impression from the American nationalists here.\n",
      "> American_Blackshirt, in _Reaktion_ , explicitly defines pretty much everyone\n",
      "> currently in the US, Anglo or Continental, white or black, as American,\n",
      "> except for illegal Hispanic immigrants. Yes, I suppose this is Civic\n",
      "> Nationalism, but were I an American I'd rather take the option that turned\n",
      "> the US into an autonomous isolationist state by reviving the things that\n",
      "> made it great than the one that turned it into a colony again. (However,\n",
      "> both options are sufficiently far away from the current American mindset\n",
      "> that I can't see either being realised in the near future.) I'm watching\n",
      "> your debate with Kacen with great interest.\n",
      "\n",
      "Why? I think civic nationalism is stupid. It is idealism with no basis in the\n",
      "material world. Were all just supposed to be united cause were white, black,\n",
      "brown, cause we're all \"Amuurikans!\". Where as the ideal of the European is an\n",
      "ideal rooted in Europeans themselves.\n",
      "\n",
      "> I've also sent an email regarding _Foundations_ to the website of the\n",
      "> Eurasian Movement; hoping to receive a response in intelligible English\n",
      "> soon.\n",
      "\n",
      "Let me know what they say.\n",
      "\n",
      "\n"
     ]
    }
   ],
   "source": [
    "from html2text import html2text\n",
    "\n",
    "def clean_post(post):\n",
    "    return html2text(post)\n",
    "\n",
    "def get_post_content(post_id):\n",
    "    post_location, _, item_id = post_id.split('_')\n",
    "    item_id = int(item_id)\n",
    "    if post_location == 'direct':\n",
    "        pandas_item = direct_message_posts.loc[direct_message_posts['msg_id'] == item_id]\n",
    "        return clean_post(str(pandas_item['msg_post'].values[0]))\n",
    "    else:\n",
    "        pandas_item = forum_posts.loc[forum_posts['index_id'] == item_id]\n",
    "        return clean_post(str(pandas_item['index_content'].values[0]))\n",
    "\n",
    "print(get_post_content('direct_messages_1223'))"
   ]
  },
  {
   "cell_type": "code",
   "execution_count": 15,
   "metadata": {},
   "outputs": [],
   "source": [
    "output_directory = 'post_training_analysis/closest_posts/output'\n",
    "output_file_name = embedding_path.split('\\\\')[-1].replace('.csv', '') + '.txt'\n",
    "output_path = os.path.join(output_directory, output_file_name)\n",
    "\n",
    "with open(output_path, 'w+', encoding = 'utf-8') as output_file:\n",
    "    for num, archetype in enumerate(archetype_closest):\n",
    "        output_file.write(f'---- ARCHETYPE {num} ----\\n\\n')\n",
    "        for index in archetype[1: 1 + n_neighbors]:\n",
    "            item_id = id_list[index]\n",
    "            try:\n",
    "                post = get_post_content(item_id)\n",
    "            except:\n",
    "                print(item_id)\n",
    "                raise RuntimeError\n",
    "            output_file.write(f'MESSAGE {item_id}:\\n{post}')"
   ]
  }
 ],
 "metadata": {
  "kernelspec": {
   "display_name": "Python 3.9.7 ('ironmarch-archetypal')",
   "language": "python",
   "name": "python3"
  },
  "language_info": {
   "codemirror_mode": {
    "name": "ipython",
    "version": 3
   },
   "file_extension": ".py",
   "mimetype": "text/x-python",
   "name": "python",
   "nbconvert_exporter": "python",
   "pygments_lexer": "ipython3",
   "version": "3.9.7"
  },
  "orig_nbformat": 4,
  "vscode": {
   "interpreter": {
    "hash": "77bff139595c7d0e7e148c2f39543514cd7f3655ddb9a9ed71e4242be2243460"
   }
  }
 },
 "nbformat": 4,
 "nbformat_minor": 2
}
