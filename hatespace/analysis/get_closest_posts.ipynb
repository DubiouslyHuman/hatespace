{
 "cells": [
  {
   "cell_type": "code",
   "execution_count": 4,
   "source": [
    "cd C:/Users/Tanner/Documents/repos/ironmarch-archetypal/"
   ],
   "outputs": [
    {
     "output_type": "stream",
     "name": "stdout",
     "text": [
      "C:\\Users\\Tanner\\Documents\\repos\\ironmarch-archetypal\n"
     ]
    }
   ],
   "metadata": {}
  },
  {
   "cell_type": "code",
   "execution_count": 5,
   "source": [
    "import torch\r\n",
    "import pandas as pd\r\n",
    "import numpy as np\r\n",
    "import os\r\n",
    "from ast import literal_eval\r\n",
    "from scipy import spatial"
   ],
   "outputs": [],
   "metadata": {}
  },
  {
   "cell_type": "code",
   "execution_count": 6,
   "source": [
    "latent_dim = 16\r\n",
    "n_neighbors = 10\r\n",
    "embedding_path = 'embeddings\\\\train_sinkhorn_vae_2021-08-12_19-45-38\\\\train_sinkhorn_vae_c774e2cc_6_one=0.94555,zero=0.8_2021-08-12_19-45-38\\checkpoint_000040\\embeddings.csv'"
   ],
   "outputs": [],
   "metadata": {}
  },
  {
   "cell_type": "code",
   "execution_count": 7,
   "source": [
    "embeddings = pd.read_csv(embedding_path).to_dict(orient = 'records')\r\n",
    "\r\n",
    "def convert_string_to_tensor(string):\r\n",
    "    return np.array(string.strip('[').strip(']').replace(',', '').split()).astype('float')\r\n",
    "\r\n",
    "embeddings = [{'id' : item['id'], 'embedding' : convert_string_to_tensor(item['embedding'])} for item in embeddings]\r\n",
    "\r\n",
    "embedding_array = []\r\n",
    "id_list = []\r\n",
    "for embedding in embeddings:\r\n",
    "    embedding_array.append(embedding['embedding'])\r\n",
    "    id_list.append(embedding['id'])\r\n",
    "embedding_array = np.array(embedding_array)\r\n",
    "print(embedding_array.shape)"
   ],
   "outputs": [
    {
     "output_type": "stream",
     "name": "stdout",
     "text": [
      "(217757, 16)\n"
     ]
    }
   ],
   "metadata": {}
  },
  {
   "cell_type": "code",
   "execution_count": 8,
   "source": [
    "archetypes = np.diag(np.array([1.0 for i in range(latent_dim)]))\r\n",
    "distances = spatial.distance_matrix(archetypes, embedding_array)\r\n",
    "archetype_closest = np.argsort(distances, axis = 1)\r\n",
    "print(archetype_closest)"
   ],
   "outputs": [
    {
     "output_type": "stream",
     "name": "stdout",
     "text": [
      "[[196954 179475 214120 ... 193536 189780 144477]\n",
      " [109071 174764  93937 ... 193536 189780 144477]\n",
      " [175128 174116 121192 ... 193536 189780 144477]\n",
      " ...\n",
      " [ 56358   3652 184830 ... 193536 189780 144477]\n",
      " [ 71774 193058 124371 ... 193536 189780 144477]\n",
      " [105230 207006 118551 ... 193536 189780 144477]]\n"
     ]
    }
   ],
   "metadata": {}
  },
  {
   "cell_type": "code",
   "execution_count": 9,
   "source": [
    "direct_message_posts = pd.read_csv('iron_march_201911\\core_message_posts.csv')\r\n",
    "forum_posts = pd.read_csv('iron_march_201911\\core_search_index.csv')"
   ],
   "outputs": [],
   "metadata": {}
  },
  {
   "cell_type": "code",
   "execution_count": 12,
   "source": [
    "from html2text import html2text\r\n",
    "\r\n",
    "def clean_post(post):\r\n",
    "    return html2text(post)\r\n",
    "\r\n",
    "def get_post_content(post_id):\r\n",
    "    post_location, _, item_id = post_id.split('_')\r\n",
    "    item_id = int(item_id)\r\n",
    "    if post_location == 'direct':\r\n",
    "        pandas_item = direct_message_posts.loc[direct_message_posts['msg_id'] == item_id]\r\n",
    "        return clean_post(str(pandas_item['msg_post'].values[0]))\r\n",
    "    else:\r\n",
    "        pandas_item = forum_posts.loc[forum_posts['index_id'] == item_id]\r\n",
    "        return clean_post(str(pandas_item['index_content'].values[0]))\r\n",
    "\r\n",
    "print(get_post_content('direct_messages_1223'))"
   ],
   "outputs": [
    {
     "output_type": "stream",
     "name": "stdout",
     "text": [
      "> I didn't really get that impression from the American nationalists here.\n",
      "> American_Blackshirt, in _Reaktion_ , explicitly defines pretty much everyone\n",
      "> currently in the US, Anglo or Continental, white or black, as American,\n",
      "> except for illegal Hispanic immigrants. Yes, I suppose this is Civic\n",
      "> Nationalism, but were I an American I'd rather take the option that turned\n",
      "> the US into an autonomous isolationist state by reviving the things that\n",
      "> made it great than the one that turned it into a colony again. (However,\n",
      "> both options are sufficiently far away from the current American mindset\n",
      "> that I can't see either being realised in the near future.) I'm watching\n",
      "> your debate with Kacen with great interest.\n",
      "\n",
      "Why? I think civic nationalism is stupid. It is idealism with no basis in the\n",
      "material world. Were all just supposed to be united cause were white, black,\n",
      "brown, cause we're all \"Amuurikans!\". Where as the ideal of the European is an\n",
      "ideal rooted in Europeans themselves.\n",
      "\n",
      "> I've also sent an email regarding _Foundations_ to the website of the\n",
      "> Eurasian Movement; hoping to receive a response in intelligible English\n",
      "> soon.\n",
      "\n",
      "Let me know what they say.\n",
      "\n",
      "\n"
     ]
    }
   ],
   "metadata": {}
  },
  {
   "cell_type": "code",
   "execution_count": 15,
   "source": [
    "output_directory = 'post_training_analysis/closest_posts/output'\r\n",
    "output_file_name = embedding_path.split('\\\\')[-1].replace('.csv', '') + '.txt'\r\n",
    "output_path = os.path.join(output_directory, output_file_name)\r\n",
    "\r\n",
    "with open(output_path, 'w+', encoding = 'utf-8') as output_file:\r\n",
    "    for num, archetype in enumerate(archetype_closest):\r\n",
    "        output_file.write(f'---- ARCHETYPE {num} ----\\n\\n')\r\n",
    "        for index in archetype[1: 1 + n_neighbors]:\r\n",
    "            item_id = id_list[index]\r\n",
    "            try:\r\n",
    "                post = get_post_content(item_id)\r\n",
    "            except:\r\n",
    "                print(item_id)\r\n",
    "                raise RuntimeError\r\n",
    "            output_file.write(f'MESSAGE {item_id}:\\n{post}')"
   ],
   "outputs": [],
   "metadata": {}
  }
 ],
 "metadata": {
  "orig_nbformat": 4,
  "language_info": {
   "name": "python",
   "version": "3.7.9",
   "mimetype": "text/x-python",
   "codemirror_mode": {
    "name": "ipython",
    "version": 3
   },
   "pygments_lexer": "ipython3",
   "nbconvert_exporter": "python",
   "file_extension": ".py"
  },
  "kernelspec": {
   "name": "python3",
   "display_name": "Python 3.7.9 64-bit ('ironmarch': conda)"
  },
  "interpreter": {
   "hash": "0b6a7edbccc2b7c7c98737421e76a6e5208e165ed5f2ed30abd6c945a285ca83"
  }
 },
 "nbformat": 4,
 "nbformat_minor": 2
}