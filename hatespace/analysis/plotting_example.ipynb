{
 "cells": [
  {
   "cell_type": "code",
   "execution_count": null,
   "metadata": {},
   "outputs": [
    {
     "ename": "",
     "evalue": "",
     "output_type": "error",
     "traceback": [
      "\u001b[1;31mRunning cells with 'hatespace' requires ipykernel package.\n",
      "\u001b[1;31mRun the following command to install 'ipykernel' into the Python environment. \n",
      "\u001b[1;31mCommand: 'conda install -n hatespace ipykernel --update-deps --force-reinstall'"
     ]
    }
   ],
   "source": [
    "from hatespace.analysis.visualizations import softmax_kde_plot\n",
    "from hatespace.analysis import IronmarchAnalysis"
   ]
  },
  {
   "cell_type": "code",
   "execution_count": 3,
   "metadata": {},
   "outputs": [],
   "source": [
    "import os\n",
    "import json\n",
    "\n",
    "import torch\n",
    "import matplotlib.pyplot as plt\n",
    "import seaborn as sns\n",
    "from tqdm import tqdm\n",
    "\n",
    "from hatespace.models import TransformerArchetypal, ArchetypalHead, Tokenizer"
   ]
  },
  {
   "cell_type": "code",
   "execution_count": 7,
   "metadata": {},
   "outputs": [],
   "source": [
    "def load_model_from_experiment(\n",
    "    experiment_name: str,\n",
    "    checkpoint_path: str = \"checkpoints/archetypal\",\n",
    "    load_last_model: bool = False,\n",
    ") -> TransformerArchetypal:\n",
    "    model_path = os.path.join(checkpoint_path, experiment_name)\n",
    "    configuration_path = os.path.join(model_path, \"configuration.json\")\n",
    "    with open(configuration_path, \"r\") as f:\n",
    "        configuration = json.load(f)\n",
    "    head = ArchetypalHead(512, 768, configuration[\"latent_dim_size\"])\n",
    "    model = TransformerArchetypal.from_pretrained(\n",
    "        \"roberta-base\", inner_embedder=head, tokenizer=Tokenizer(\"roberta-base\", max_length=512)\n",
    "    )\n",
    "    if load_last_model:\n",
    "        checkpoint_path = os.path.join(model_path, \"checkpoint.pt\")\n",
    "        checkpoint = torch.load(checkpoint_path, map_location=\"cpu\")\n",
    "        model.load_state_dict(checkpoint[\"model\"])\n",
    "    else:\n",
    "        checkpoint_path = os.path.join(model_path, \"best_model.pt\")\n",
    "        model.load_state_dict(torch.load(checkpoint_path, map_location=\"cpu\"))\n",
    "    model.eval()\n",
    "    return model"
   ]
  },
  {
   "cell_type": "code",
   "execution_count": 30,
   "metadata": {},
   "outputs": [],
   "source": [
    "experiment_name = \"patient-quail\"\n",
    "checkpoint_path = os.path.join(\"..\", \"..\", \"checkpoints\", \"archetypal\")\n",
    "model = load_model_from_experiment(experiment_name, checkpoint_path=checkpoint_path, load_last_model=True)\n",
    "model.to(\"cuda:1\")\n",
    "tokenizer = Tokenizer(\"roberta-base\", max_length=512)"
   ]
  },
  {
   "cell_type": "code",
   "execution_count": 28,
   "metadata": {},
   "outputs": [
    {
     "name": "stdout",
     "output_type": "stream",
     "text": [
      "Loading IronMarch dataset...\n",
      "Formatting posts...\n"
     ]
    },
    {
     "name": "stderr",
     "output_type": "stream",
     "text": [
      "100%|██████████| 217757/217757 [00:28<00:00, 7667.60it/s] \n"
     ]
    }
   ],
   "source": [
    "from hatespace.datasets import IronMarch, DataLoader\n",
    "\n",
    "dataset = IronMarch(\"../../data/iron_march\")\n",
    "dataloader = DataLoader(dataset, batch_size=8, shuffle=False, num_workers=10)\n"
   ]
  },
  {
   "cell_type": "code",
   "execution_count": 33,
   "metadata": {},
   "outputs": [
    {
     "name": "stderr",
     "output_type": "stream",
     "text": [
      "  0%|          | 0/27220 [00:00<?, ?it/s]"
     ]
    },
    {
     "name": "stdout",
     "output_type": "stream",
     "text": [
      "huggingface/tokenizers: The current process just got forked, after parallelism has already been used. Disabling parallelism to avoid deadlocks...\n",
      "To disable this warning, you can either:\n",
      "\t- Avoid using `tokenizers` before the fork if possible\n",
      "\t- Explicitly set the environment variable TOKENIZERS_PARALLELISM=(true | false)\n",
      "huggingface/tokenizers: The current process just got forked, after parallelism has already been used. Disabling parallelism to avoid deadlocks...\n",
      "To disable this warning, you can either:\n",
      "\t- Avoid using `tokenizers` before the fork if possible\n",
      "\t- Explicitly set the environment variable TOKENIZERS_PARALLELISM=(true | false)\n",
      "huggingface/tokenizers: The current process just got forked, after parallelism has already been used. Disabling parallelism to avoid deadlocks...\n",
      "To disable this warning, you can either:\n",
      "\t- Avoid using `tokenizers` before the fork if possible\n",
      "\t- Explicitly set the environment variable TOKENIZERS_PARALLELISM=(true | false)\n",
      "huggingface/tokenizers: The current process just got forked, after parallelism has already been used. Disabling parallelism to avoid deadlocks...\n",
      "To disable this warning, you can either:\n",
      "\t- Avoid using `tokenizers` before the fork if possible\n",
      "\t- Explicitly set the environment variable TOKENIZERS_PARALLELISM=(true | false)\n",
      "huggingface/tokenizers: The current process just got forked, after parallelism has already been used. Disabling parallelism to avoid deadlocks...\n",
      "To disable this warning, you can either:\n",
      "\t- Avoid using `tokenizers` before the fork if possible\n",
      "\t- Explicitly set the environment variable TOKENIZERS_PARALLELISM=(true | false)\n",
      "huggingface/tokenizers: The current process just got forked, after parallelism has already been used. Disabling parallelism to avoid deadlocks...\n",
      "To disable this warning, you can either:\n",
      "\t- Avoid using `tokenizers` before the fork if possible\n",
      "\t- Explicitly set the environment variable TOKENIZERS_PARALLELISM=(true | false)\n",
      "huggingface/tokenizers: The current process just got forked, after parallelism has already been used. Disabling parallelism to avoid deadlocks...\n",
      "To disable this warning, you can either:\n",
      "\t- Avoid using `tokenizers` before the fork if possible\n",
      "\t- Explicitly set the environment variable TOKENIZERS_PARALLELISM=(true | false)\n",
      "huggingface/tokenizers: The current process just got forked, after parallelism has already been used. Disabling parallelism to avoid deadlocks...\n",
      "To disable this warning, you can either:\n",
      "\t- Avoid using `tokenizers` before the fork if possible\n",
      "\t- Explicitly set the environment variable TOKENIZERS_PARALLELISM=(true | false)\n",
      "huggingface/tokenizers: The current process just got forked, after parallelism has already been used. Disabling parallelism to avoid deadlocks...\n",
      "To disable this warning, you can either:\n",
      "\t- Avoid using `tokenizers` before the fork if possible\n",
      "\t- Explicitly set the environment variable TOKENIZERS_PARALLELISM=(true | false)\n",
      "huggingface/tokenizers: The current process just got forked, after parallelism has already been used. Disabling parallelism to avoid deadlocks...\n",
      "To disable this warning, you can either:\n",
      "\t- Avoid using `tokenizers` before the fork if possible\n",
      "\t- Explicitly set the environment variable TOKENIZERS_PARALLELISM=(true | false)\n"
     ]
    },
    {
     "name": "stderr",
     "output_type": "stream",
     "text": [
      "100%|██████████| 27220/27220 [36:21<00:00, 12.48it/s] \n"
     ]
    }
   ],
   "source": [
    "embeddings = {}\n",
    "for batch in tqdm(dataloader):\n",
    "    tokens = tokenizer(batch['data'])\n",
    "    tokens = {k: v.to(\"cuda:1\") for k, v in tokens.items()}\n",
    "    embedding = model(**tokens).embeddings.detach().cpu().numpy()\n",
    "    for idx, id in enumerate(batch['id']):\n",
    "        embeddings[id] = embedding[idx]\n"
   ]
  },
  {
   "cell_type": "code",
   "execution_count": 34,
   "metadata": {},
   "outputs": [],
   "source": [
    "import csv\n",
    "\n",
    "with open(\"embeddings.csv\", \"w\") as f:\n",
    "    writer = csv.writer(f)\n",
    "    writer.writerow([\"id\", \"embedding\"])\n",
    "    for id, embedding in embeddings.items():\n",
    "        writer.writerow([id, list(embedding)])"
   ]
  }
 ],
 "metadata": {
  "kernelspec": {
   "display_name": "hatespace",
   "language": "python",
   "name": "python3"
  },
  "language_info": {
   "codemirror_mode": {
    "name": "ipython",
    "version": 3
   },
   "file_extension": ".py",
   "mimetype": "text/x-python",
   "name": "python",
   "nbconvert_exporter": "python",
   "pygments_lexer": "ipython3",
   "version": "3.10.8"
  },
  "orig_nbformat": 4,
  "vscode": {
   "interpreter": {
    "hash": "ee31ebce5512e89c094cc9bdaea01e059a08c3a16b8758cda76693921766619e"
   }
  }
 },
 "nbformat": 4,
 "nbformat_minor": 2
}
